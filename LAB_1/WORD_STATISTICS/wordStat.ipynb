{
 "cells": [
  {
   "cell_type": "code",
   "execution_count": 20,
   "id": "5b0d041e",
   "metadata": {},
   "outputs": [],
   "source": [
    "from nltk.tokenize import word_tokenize\n",
    "from nltk.corpus import stopwords\n",
    "from collections import Counter\n",
    "import math"
   ]
  },
  {
   "cell_type": "code",
   "execution_count": 9,
   "id": "47b458b1",
   "metadata": {},
   "outputs": [
    {
     "name": "stderr",
     "output_type": "stream",
     "text": [
      "[nltk_data] Downloading package punkt to\n",
      "[nltk_data]     C:\\Users\\swoye\\AppData\\Roaming\\nltk_data...\n",
      "[nltk_data]   Package punkt is already up-to-date!\n",
      "[nltk_data] Downloading package stopwords to\n",
      "[nltk_data]     C:\\Users\\swoye\\AppData\\Roaming\\nltk_data...\n",
      "[nltk_data]   Package stopwords is already up-to-date!\n"
     ]
    },
    {
     "data": {
      "text/plain": [
       "True"
      ]
     },
     "execution_count": 9,
     "metadata": {},
     "output_type": "execute_result"
    }
   ],
   "source": [
    "import nltk\n",
    "nltk.download('punkt')\n",
    "nltk.download('stopwords')"
   ]
  },
  {
   "cell_type": "markdown",
   "id": "373426eb",
   "metadata": {},
   "source": [
    "TF-IDF"
   ]
  },
  {
   "cell_type": "code",
   "execution_count": 11,
   "id": "56d3a1b6",
   "metadata": {},
   "outputs": [
    {
     "name": "stdout",
     "output_type": "stream",
     "text": [
      "Welcome to the heart of the financial world — the trading floor.\n",
      "Here, every tick of the market tells a story. Every second counts. Every decision echoes through numbers and charts.\n",
      "Before we dive in, let me walk you through what makes this space more than just flashing screens — it’s where instinct meets data, and strategy meets speed.\n"
     ]
    }
   ],
   "source": [
    "text = \"\"\"Welcome to the heart of the financial world — the trading floor.\n",
    "\n",
    "Here, every tick of the market tells a story. Every second counts. Every decision echoes through numbers and charts.\n",
    "\n",
    "Before we dive in, let me walk you through what makes this space more than just flashing screens — it’s where instinct meets data, and strategy meets speed.\"\"\"\n",
    "\n",
    "documents = [p.strip() for p in text.split('\\n\\n') if p.strip()]\n",
    "\n",
    "stop_words = set(stopwords.words('english'))\n",
    "\n",
    "for each_doc in documents:\n",
    "    print(each_doc)"
   ]
  },
  {
   "cell_type": "code",
   "execution_count": 12,
   "id": "e2412f43",
   "metadata": {},
   "outputs": [
    {
     "name": "stdout",
     "output_type": "stream",
     "text": [
      "['Welcome', 'heart', 'financial', 'world', '—', 'trading', 'floor', '.']\n",
      "['Here', ',', 'every', 'tick', 'market', 'tells', 'story', '.', 'Every', 'second', 'counts', '.', 'Every', 'decision', 'echoes', 'numbers', 'charts', '.']\n",
      "['Before', 'dive', ',', 'let', 'walk', 'makes', 'space', 'flashing', 'screens', '—', '’', 'instinct', 'meets', 'data', ',', 'strategy', 'meets', 'speed', '.']\n"
     ]
    }
   ],
   "source": [
    "def tokenize(text):\n",
    "    tokens = word_tokenize(text)\n",
    "    tokens = [token for token in tokens if token not in stop_words]\n",
    "    return tokens\n",
    "\n",
    "finalized_docs = [tokenize(doc) for doc in documents]\n",
    "    \n",
    "for each_doc in finalized_docs:\n",
    "    print(each_doc)"
   ]
  },
  {
   "cell_type": "markdown",
   "id": "28f0371e",
   "metadata": {},
   "source": [
    "TF"
   ]
  },
  {
   "cell_type": "code",
   "execution_count": 21,
   "id": "2d22e2ca",
   "metadata": {},
   "outputs": [
    {
     "name": "stdout",
     "output_type": "stream",
     "text": [
      "{'Welcome': 0.125, 'heart': 0.125, 'financial': 0.125, 'world': 0.125, '—': 0.125, 'trading': 0.125, 'floor': 0.125, '.': 0.125}\n",
      "{'Here': 0.05555555555555555, ',': 0.05555555555555555, 'every': 0.05555555555555555, 'tick': 0.05555555555555555, 'market': 0.05555555555555555, 'tells': 0.05555555555555555, 'story': 0.05555555555555555, '.': 0.16666666666666666, 'Every': 0.1111111111111111, 'second': 0.05555555555555555, 'counts': 0.05555555555555555, 'decision': 0.05555555555555555, 'echoes': 0.05555555555555555, 'numbers': 0.05555555555555555, 'charts': 0.05555555555555555}\n",
      "{'Before': 0.05263157894736842, 'dive': 0.05263157894736842, ',': 0.10526315789473684, 'let': 0.05263157894736842, 'walk': 0.05263157894736842, 'makes': 0.05263157894736842, 'space': 0.05263157894736842, 'flashing': 0.05263157894736842, 'screens': 0.05263157894736842, '—': 0.05263157894736842, '’': 0.05263157894736842, 'instinct': 0.05263157894736842, 'meets': 0.10526315789473684, 'data': 0.05263157894736842, 'strategy': 0.05263157894736842, 'speed': 0.05263157894736842, '.': 0.05263157894736842}\n"
     ]
    }
   ],
   "source": [
    "def comput_tf(tokens):\n",
    "    count_dic = Counter(tokens)\n",
    "    total_tokens = len(tokens)\n",
    "    tokens_tf = {term: count/total_tokens for term, count in count_dic.items()}\n",
    "    return tokens_tf\n",
    "\n",
    "finalized_tf = [comput_tf(doc) for doc in finalized_docs]\n",
    "\n",
    "for tf in finalized_tf:\n",
    "    print(tf)"
   ]
  },
  {
   "cell_type": "markdown",
   "id": "72b31e20",
   "metadata": {},
   "source": [
    "IDF"
   ]
  },
  {
   "cell_type": "code",
   "execution_count": 32,
   "id": "d4cf8ccb",
   "metadata": {},
   "outputs": [
    {
     "name": "stdout",
     "output_type": "stream",
     "text": [
      "{'trading': 1.6931471805599454, '.': 1.0, 'financial': 1.6931471805599454, '—': 1.2876820724517808, 'floor': 1.6931471805599454, 'Welcome': 1.6931471805599454, 'heart': 1.6931471805599454, 'world': 1.6931471805599454}\n",
      "{'Here': 1.6931471805599454, 'tells': 1.6931471805599454, '.': 1.0, ',': 1.2876820724517808, 'numbers': 1.6931471805599454, 'market': 1.6931471805599454, 'Every': 1.6931471805599454, 'story': 1.6931471805599454, 'every': 1.6931471805599454, 'second': 1.6931471805599454, 'tick': 1.6931471805599454, 'echoes': 1.6931471805599454, 'charts': 1.6931471805599454, 'decision': 1.6931471805599454, 'counts': 1.6931471805599454}\n",
      "{'strategy': 1.6931471805599454, '’': 1.6931471805599454, '.': 1.0, 'space': 1.6931471805599454, 'let': 1.6931471805599454, 'dive': 1.6931471805599454, 'flashing': 1.6931471805599454, 'walk': 1.6931471805599454, ',': 1.2876820724517808, 'instinct': 1.6931471805599454, 'speed': 1.6931471805599454, 'screens': 1.6931471805599454, 'makes': 1.6931471805599454, '—': 1.2876820724517808, 'data': 1.6931471805599454, 'meets': 1.6931471805599454, 'Before': 1.6931471805599454}\n"
     ]
    }
   ],
   "source": [
    "def compute_idf(tokens):\n",
    "    doc_len = len(finalized_docs)\n",
    "    idf_doc = {}\n",
    "    final_tokens = set(tokens)\n",
    "    for term in final_tokens:\n",
    "        term_freq = 0\n",
    "        for doc in finalized_docs:\n",
    "            if term in doc:\n",
    "                term_freq += 1\n",
    "        idf_doc[term] = math.log((doc_len + 1) / (term_freq + 1)) + 1\n",
    "    return idf_doc\n",
    "\n",
    "finalized_idf = [compute_idf(doc) for doc in finalized_docs]\n",
    "\n",
    "for idf in finalized_idf:\n",
    "    print(idf)"
   ]
  },
  {
   "cell_type": "markdown",
   "id": "dea5a1ee",
   "metadata": {},
   "source": [
    "TF-IDF"
   ]
  },
  {
   "cell_type": "code",
   "execution_count": 44,
   "id": "90d6cc35",
   "metadata": {},
   "outputs": [
    {
     "name": "stdout",
     "output_type": "stream",
     "text": [
      "{'Welcome': 0.21164339756999317, 'heart': 0.21164339756999317, 'financial': 0.21164339756999317, 'world': 0.21164339756999317, '—': 0.1609602590564726, 'trading': 0.21164339756999317, 'floor': 0.21164339756999317, '.': 0.125}\n",
      "{'Here': 0.0940637322533303, ',': 0.07153789291398782, 'every': 0.0940637322533303, 'tick': 0.0940637322533303, 'market': 0.0940637322533303, 'tells': 0.0940637322533303, 'story': 0.0940637322533303, '.': 0.16666666666666666, 'Every': 0.1881274645066606, 'second': 0.0940637322533303, 'counts': 0.0940637322533303, 'decision': 0.0940637322533303, 'echoes': 0.0940637322533303, 'numbers': 0.0940637322533303, 'charts': 0.0940637322533303}\n",
      "{'Before': 0.08911300950315501, 'dive': 0.08911300950315501, ',': 0.13554548131071376, 'let': 0.08911300950315501, 'walk': 0.08911300950315501, 'makes': 0.08911300950315501, 'space': 0.08911300950315501, 'flashing': 0.08911300950315501, 'screens': 0.08911300950315501, '—': 0.06777274065535688, '’': 0.08911300950315501, 'instinct': 0.08911300950315501, 'meets': 0.17822601900631002, 'data': 0.08911300950315501, 'strategy': 0.08911300950315501, 'speed': 0.08911300950315501, '.': 0.05263157894736842}\n"
     ]
    }
   ],
   "source": [
    "def compute_tfidf(tf, idf):\n",
    "    tfidf_score = {term: tf_val * idf.get(term, 0) for term, tf_val in tf.items()}\n",
    "    return tfidf_score\n",
    "\n",
    "tfidf_doc = [compute_tfidf(tf, finalized_idf[x]) for x, tf in enumerate(finalized_tf)]\n",
    "\n",
    "for tfidf in tfidf_doc:\n",
    "    print(tfidf)"
   ]
  },
  {
   "cell_type": "markdown",
   "id": "affb37fc",
   "metadata": {},
   "source": [
    "ORDERS OF WORDS IN DOCS"
   ]
  },
  {
   "cell_type": "code",
   "execution_count": 50,
   "id": "978a38e6",
   "metadata": {},
   "outputs": [
    {
     "name": "stdout",
     "output_type": "stream",
     "text": [
      "\n",
      "For Doc 1: \n",
      "\n",
      "Welcome: 0.21164\n",
      "heart: 0.21164\n",
      "financial: 0.21164\n",
      "world: 0.21164\n",
      "trading: 0.21164\n",
      "floor: 0.21164\n",
      "—: 0.16096\n",
      ".: 0.12500\n",
      "\n",
      "For Doc 2: \n",
      "\n",
      "Every: 0.18813\n",
      ".: 0.16667\n",
      "Here: 0.09406\n",
      "every: 0.09406\n",
      "tick: 0.09406\n",
      "market: 0.09406\n",
      "tells: 0.09406\n",
      "story: 0.09406\n",
      "second: 0.09406\n",
      "counts: 0.09406\n",
      "\n",
      "For Doc 3: \n",
      "\n",
      "meets: 0.17823\n",
      ",: 0.13555\n",
      "Before: 0.08911\n",
      "dive: 0.08911\n",
      "let: 0.08911\n",
      "walk: 0.08911\n",
      "makes: 0.08911\n",
      "space: 0.08911\n",
      "flashing: 0.08911\n",
      "screens: 0.08911\n"
     ]
    }
   ],
   "source": [
    "def high_order(ti_docs):\n",
    "    for i, doc in enumerate(ti_docs):\n",
    "        print(f\"\\nFor Doc {i + 1}: \\n\")\n",
    "        sorted_doc = sorted(doc.items(), key=lambda x: x[1], reverse=True)[:10]\n",
    "\n",
    "        for term, score in sorted_doc:\n",
    "            print(f\"{term}: {score:.5f}\")\n",
    "\n",
    "high_order(tfidf_doc)"
   ]
  }
 ],
 "metadata": {
  "kernelspec": {
   "display_name": "venv",
   "language": "python",
   "name": "python3"
  },
  "language_info": {
   "codemirror_mode": {
    "name": "ipython",
    "version": 3
   },
   "file_extension": ".py",
   "mimetype": "text/x-python",
   "name": "python",
   "nbconvert_exporter": "python",
   "pygments_lexer": "ipython3",
   "version": "3.12.5"
  }
 },
 "nbformat": 4,
 "nbformat_minor": 5
}
